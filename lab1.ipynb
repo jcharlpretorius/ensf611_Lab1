{
  "cells": [
    {
      "cell_type": "markdown",
      "metadata": {
        "id": "GLGKDq-OgH_o"
      },
      "source": [
        "# Lab1 - Scikit-learn\n",
        "Author: *Jean-Charl Pretorius*\n",
        "\n",
        "## 1. Introduction\n",
        "\n",
        "The goal of this lab is to become familiar with the scikit-learn library.\n",
        "\n",
        "You will practice loading example datasets, perform classification and regression with linear scikit-learn models, and investigate the effects of reducing the number of features (columns in X) and the number of samples (rows in X and y).\n"
      ]
    },
    {
      "cell_type": "code",
      "execution_count": 25,
      "metadata": {
        "id": "PUq5ASAxgH_q"
      },
      "outputs": [],
      "source": [
        "import numpy as np\n",
        "import pandas as pd\n",
        "import matplotlib.pyplot as plt\n",
        "import seaborn as sns"
      ]
    },
    {
      "cell_type": "markdown",
      "metadata": {
        "id": "a_KEYQmdgH_s"
      },
      "source": [
        "## 2. Classification\n",
        "\n",
        "Using yellowbrick spam - classification  \n",
        "https://www.scikit-yb.org/en/latest/api/datasets/spam.html\n",
        "\n",
        "The goal is to investigate `LogisticRegression(max_iter=2000)` and effects of reducing the number of features and number of samples on classification performance."
      ]
    },
    {
      "cell_type": "markdown",
      "metadata": {
        "id": "zEDyWgbYgH_s"
      },
      "source": [
        "### 2.1 Implement convenience function"
      ]
    },
    {
      "cell_type": "code",
      "execution_count": 26,
      "metadata": {
        "id": "0MFsZ30ggH_s"
      },
      "outputs": [],
      "source": [
        "from sklearn.metrics import accuracy_score\n",
        "from sklearn.model_selection import train_test_split\n",
        "\n",
        "def get_classifier_accuracy(model, X, y):\n",
        "    '''Calculate train and validation accuracy of classifier (model)\n",
        "        \n",
        "        Splits feature matrix X and target vector y \n",
        "        with sklearn train_test_split() and random_state=956.\n",
        "        \n",
        "        model (sklearn classifier): Classifier to train and evaluate\n",
        "        X (numpy.array or pandas.DataFrame): Feature matrix\n",
        "        y (numpy.array or pandas.Series): Target vector\n",
        "        \n",
        "        returns: training accuracy, validation accuracy\n",
        "    \n",
        "    '''\n",
        "    # split feature matrix and target vector\n",
        "    X_train, X_test, y_train, y_test = train_test_split(X, y, random_state=956)\n",
        "    \n",
        "    # fit model\n",
        "    model.fit(X_train, y_train)\n",
        "\n",
        "    # calculate training accuracy\n",
        "    y_train_pred = model.predict(X_train)\n",
        "    training_accuracy = accuracy_score(y_train, y_train_pred)\n",
        "\n",
        "    # calculate validation accuracy\n",
        "    y_test_pred = model.predict(X_test)\n",
        "    validation_accuracy = accuracy_score(y_test, y_test_pred)\n",
        "\n",
        "    return training_accuracy, validation_accuracy\n",
        "    "
      ]
    },
    {
      "cell_type": "markdown",
      "metadata": {
        "id": "wetgxYCzgH_t"
      },
      "source": [
        "### 2.2 Load data\n",
        "\n",
        "Use the yellowbrick function `load_spam()`, load the spam data set into feature matrix `X` and target vector `y`.\n",
        "\n",
        "Print size and type of `X` and `y`.\n"
      ]
    },
    {
      "cell_type": "code",
      "execution_count": 27,
      "metadata": {
        "id": "M3ccn70fgH_t",
        "outputId": "34c0eda7-7112-462b-f6ba-ae27ee953e49",
        "colab": {
          "base_uri": "https://localhost:8080/"
        }
      },
      "outputs": [
        {
          "output_type": "stream",
          "name": "stdout",
          "text": [
            "X.size: 262200\n",
            "type(X): <class 'pandas.core.frame.DataFrame'>\n",
            "y.size: 4600\n",
            "type(y): <class 'pandas.core.series.Series'>\n"
          ]
        }
      ],
      "source": [
        "from yellowbrick.datasets import load_spam\n",
        "X, y = load_spam()\n",
        "print(\"X.size: {}\".format(X.size))\n",
        "print(\"type(X): {}\".format(type(X)))\n",
        "\n",
        "print(\"y.size: {}\".format(y.size))\n",
        "print(\"type(y): {}\".format(type(y)))\n",
        "\n"
      ]
    },
    {
      "cell_type": "markdown",
      "metadata": {
        "id": "dn2TwRnpgH_u"
      },
      "source": [
        "Using the sklearn function `train_test_split()` prepare a feature matrix `X_small` and target vector `y_small` that contain only **1%** of the rows. Use `random_state=174`.\n",
        "\n",
        "Print size and type of `X_small` and `y_small`."
      ]
    },
    {
      "cell_type": "code",
      "execution_count": 28,
      "metadata": {
        "id": "14SiRQOegH_v",
        "colab": {
          "base_uri": "https://localhost:8080/"
        },
        "outputId": "e25fe7f5-1642-4cdd-fe61-35130371571e"
      },
      "outputs": [
        {
          "output_type": "stream",
          "name": "stdout",
          "text": [
            "size of X_small: 2622\n",
            "type of X_small: <class 'pandas.core.frame.DataFrame'>\n",
            "size of y_small: 46\n",
            "type of y_small: <class 'pandas.core.series.Series'>\n"
          ]
        }
      ],
      "source": [
        "X_small, X_test, y_small, y_test = train_test_split(X, y, train_size=0.01, random_state=174)\n",
        "print(\"size of X_small:\", X_small.size)\n",
        "print(\"type of X_small:\", type(X_small))\n",
        "print(\"size of y_small:\", y_small.size)\n",
        "print(\"type of y_small:\", type(y_small))"
      ]
    },
    {
      "cell_type": "markdown",
      "metadata": {
        "id": "B6Ugxn8YgH_w"
      },
      "source": [
        "### 2.3 Train and evaluate models\n",
        "\n",
        "1. Import `LogisticRegression` from sklearn\n",
        "2. Instantiate model `LogisticRegression(max_iter=2000)`.\n",
        "3. Create a pandas DataFrame `results` with columns: Data size, training accuracy, validation accuracy\n",
        "4. Call your convenience function `get_classifier_accuracy()` using \n",
        "    - `X` and `y`\n",
        "    - Only first two columns of `X` and `y`\n",
        "    - `X_small` and `y_small`\n",
        "5. Add the data size, training and validation accuracy for each call to the `results` DataFrame\n",
        "6. Print `results`"
      ]
    },
    {
      "cell_type": "code",
      "execution_count": 29,
      "metadata": {
        "id": "HJg8Y5O_gH_x",
        "colab": {
          "base_uri": "https://localhost:8080/",
          "height": 175
        },
        "outputId": "dadc95a8-5c3e-419d-adf9-c970532b068b"
      },
      "outputs": [
        {
          "output_type": "execute_result",
          "data": {
            "text/plain": [
              "                           Data size  training accuracy  validation accuracy\n",
              "sample                                                                      \n",
              "X and y                       262200           0.934493             0.918261\n",
              "first 2 columns of X and y      9200           0.608986             0.613043\n",
              "X_small and y_small             2622           0.941176             0.750000"
            ],
            "text/html": [
              "\n",
              "  <div id=\"df-46efb111-9cf3-408c-b267-c0bffb5788fa\">\n",
              "    <div class=\"colab-df-container\">\n",
              "      <div>\n",
              "<style scoped>\n",
              "    .dataframe tbody tr th:only-of-type {\n",
              "        vertical-align: middle;\n",
              "    }\n",
              "\n",
              "    .dataframe tbody tr th {\n",
              "        vertical-align: top;\n",
              "    }\n",
              "\n",
              "    .dataframe thead th {\n",
              "        text-align: right;\n",
              "    }\n",
              "</style>\n",
              "<table border=\"1\" class=\"dataframe\">\n",
              "  <thead>\n",
              "    <tr style=\"text-align: right;\">\n",
              "      <th></th>\n",
              "      <th>Data size</th>\n",
              "      <th>training accuracy</th>\n",
              "      <th>validation accuracy</th>\n",
              "    </tr>\n",
              "    <tr>\n",
              "      <th>sample</th>\n",
              "      <th></th>\n",
              "      <th></th>\n",
              "      <th></th>\n",
              "    </tr>\n",
              "  </thead>\n",
              "  <tbody>\n",
              "    <tr>\n",
              "      <th>X and y</th>\n",
              "      <td>262200</td>\n",
              "      <td>0.934493</td>\n",
              "      <td>0.918261</td>\n",
              "    </tr>\n",
              "    <tr>\n",
              "      <th>first 2 columns of X and y</th>\n",
              "      <td>9200</td>\n",
              "      <td>0.608986</td>\n",
              "      <td>0.613043</td>\n",
              "    </tr>\n",
              "    <tr>\n",
              "      <th>X_small and y_small</th>\n",
              "      <td>2622</td>\n",
              "      <td>0.941176</td>\n",
              "      <td>0.750000</td>\n",
              "    </tr>\n",
              "  </tbody>\n",
              "</table>\n",
              "</div>\n",
              "      <button class=\"colab-df-convert\" onclick=\"convertToInteractive('df-46efb111-9cf3-408c-b267-c0bffb5788fa')\"\n",
              "              title=\"Convert this dataframe to an interactive table.\"\n",
              "              style=\"display:none;\">\n",
              "        \n",
              "  <svg xmlns=\"http://www.w3.org/2000/svg\" height=\"24px\"viewBox=\"0 0 24 24\"\n",
              "       width=\"24px\">\n",
              "    <path d=\"M0 0h24v24H0V0z\" fill=\"none\"/>\n",
              "    <path d=\"M18.56 5.44l.94 2.06.94-2.06 2.06-.94-2.06-.94-.94-2.06-.94 2.06-2.06.94zm-11 1L8.5 8.5l.94-2.06 2.06-.94-2.06-.94L8.5 2.5l-.94 2.06-2.06.94zm10 10l.94 2.06.94-2.06 2.06-.94-2.06-.94-.94-2.06-.94 2.06-2.06.94z\"/><path d=\"M17.41 7.96l-1.37-1.37c-.4-.4-.92-.59-1.43-.59-.52 0-1.04.2-1.43.59L10.3 9.45l-7.72 7.72c-.78.78-.78 2.05 0 2.83L4 21.41c.39.39.9.59 1.41.59.51 0 1.02-.2 1.41-.59l7.78-7.78 2.81-2.81c.8-.78.8-2.07 0-2.86zM5.41 20L4 18.59l7.72-7.72 1.47 1.35L5.41 20z\"/>\n",
              "  </svg>\n",
              "      </button>\n",
              "      \n",
              "  <style>\n",
              "    .colab-df-container {\n",
              "      display:flex;\n",
              "      flex-wrap:wrap;\n",
              "      gap: 12px;\n",
              "    }\n",
              "\n",
              "    .colab-df-convert {\n",
              "      background-color: #E8F0FE;\n",
              "      border: none;\n",
              "      border-radius: 50%;\n",
              "      cursor: pointer;\n",
              "      display: none;\n",
              "      fill: #1967D2;\n",
              "      height: 32px;\n",
              "      padding: 0 0 0 0;\n",
              "      width: 32px;\n",
              "    }\n",
              "\n",
              "    .colab-df-convert:hover {\n",
              "      background-color: #E2EBFA;\n",
              "      box-shadow: 0px 1px 2px rgba(60, 64, 67, 0.3), 0px 1px 3px 1px rgba(60, 64, 67, 0.15);\n",
              "      fill: #174EA6;\n",
              "    }\n",
              "\n",
              "    [theme=dark] .colab-df-convert {\n",
              "      background-color: #3B4455;\n",
              "      fill: #D2E3FC;\n",
              "    }\n",
              "\n",
              "    [theme=dark] .colab-df-convert:hover {\n",
              "      background-color: #434B5C;\n",
              "      box-shadow: 0px 1px 3px 1px rgba(0, 0, 0, 0.15);\n",
              "      filter: drop-shadow(0px 1px 2px rgba(0, 0, 0, 0.3));\n",
              "      fill: #FFFFFF;\n",
              "    }\n",
              "  </style>\n",
              "\n",
              "      <script>\n",
              "        const buttonEl =\n",
              "          document.querySelector('#df-46efb111-9cf3-408c-b267-c0bffb5788fa button.colab-df-convert');\n",
              "        buttonEl.style.display =\n",
              "          google.colab.kernel.accessAllowed ? 'block' : 'none';\n",
              "\n",
              "        async function convertToInteractive(key) {\n",
              "          const element = document.querySelector('#df-46efb111-9cf3-408c-b267-c0bffb5788fa');\n",
              "          const dataTable =\n",
              "            await google.colab.kernel.invokeFunction('convertToInteractive',\n",
              "                                                     [key], {});\n",
              "          if (!dataTable) return;\n",
              "\n",
              "          const docLinkHtml = 'Like what you see? Visit the ' +\n",
              "            '<a target=\"_blank\" href=https://colab.research.google.com/notebooks/data_table.ipynb>data table notebook</a>'\n",
              "            + ' to learn more about interactive tables.';\n",
              "          element.innerHTML = '';\n",
              "          dataTable['output_type'] = 'display_data';\n",
              "          await google.colab.output.renderOutput(dataTable, element);\n",
              "          const docLink = document.createElement('div');\n",
              "          docLink.innerHTML = docLinkHtml;\n",
              "          element.appendChild(docLink);\n",
              "        }\n",
              "      </script>\n",
              "    </div>\n",
              "  </div>\n",
              "  "
            ]
          },
          "metadata": {},
          "execution_count": 29
        }
      ],
      "source": [
        "# 1)\n",
        "from sklearn.linear_model import LogisticRegression\n",
        "# 2) \n",
        "lr = LogisticRegression(max_iter=2000)\n",
        "# 3)\n",
        "results = pd.DataFrame(columns=[\"Data size\", \"training accuracy\", \"validation accuracy\", \"sample\"])\n",
        "\n",
        "# 4 & 5)\n",
        "samples = {\"X and y\":(X, y), \"first 2 columns of X and y\":(X.iloc[:,:2], y), \"X_small and y_small\":(X_small, y_small)}\n",
        "\n",
        "for  name, sample in samples.items():\n",
        "  featureMatrix, targetVector = sample\n",
        "  training_accuracy, validation_accuracy = get_classifier_accuracy(lr, featureMatrix, targetVector)\n",
        "  results = results.append({\"Data size\": featureMatrix.size, \"training accuracy\": training_accuracy, \"validation accuracy\":  validation_accuracy, \"sample\":name}, ignore_index=True)\n",
        "\n",
        "\n",
        "results.set_index(\"sample\", inplace = True)\n",
        "results\n",
        "\n"
      ]
    },
    {
      "cell_type": "markdown",
      "metadata": {
        "id": "QxAL1LYpgH_x"
      },
      "source": [
        "### 2.4 Questions\n",
        "1. What is the validation accuracy using all data? What is the difference between training and validation accuracy?\n",
        "1. How does the validation accuracy and difference between training and validation change when only two columns are used? Provide values.\n",
        "1. How does the validation accuracy and difference between training and validation change when only 1% of the rows are used? Provide values.\n",
        "\n",
        "*YOUR ANSWERS HERE*\n",
        "\n",
        "1) \n",
        "\n",
        "- The validation accuracy using all the data is 0.918 and the training accuracy is 0.934.\n",
        "\n",
        "- There is a small diffirence of 0.016 between the validation and training accuracy scores, with validation score being slightly less than training score. Both values are close to 1, which is a good accuracy.\n",
        "\n",
        "2) \n",
        "- When we only use the first two columns the validation accuracy has dropped by 0.305 down to 0.613 and the training accuracy is 0.609. \n",
        "\n",
        "- Both accuracy values have dropped considerably and we also notice that the validation score is actually very slightly higher than the training score by 4E-3. The training and validation accuracy is closer than when using all of the data.\n",
        "\n",
        "3)\n",
        "- When we only use 1% of the data the validation accuracy has dropped by 0.168 down to 0.750. The training accuracy is still high at 0.941.\n",
        "\n",
        "- The difference between training and validation accuracy has increased to 0.191\n",
        "\n"
      ]
    },
    {
      "cell_type": "markdown",
      "metadata": {
        "id": "otUePQ7UgH_y"
      },
      "source": [
        "## 3. Regression\n",
        "\n",
        "Using yellowbrick energy - regression  \n",
        "https://www.scikit-yb.org/en/latest/api/datasets/energy.html\n",
        "\n",
        "The goal is to investigate `LinearRegression()` and effects of reducing the number of features and number of samples on regression performance."
      ]
    },
    {
      "cell_type": "markdown",
      "metadata": {
        "id": "HEzhkrObgH_y"
      },
      "source": [
        "### 3.1 Implement convenience function"
      ]
    },
    {
      "cell_type": "code",
      "execution_count": 30,
      "metadata": {
        "id": "Ae4cAzi1gH_z"
      },
      "outputs": [],
      "source": [
        "from sklearn.metrics import mean_squared_error\n",
        "from sklearn.model_selection import train_test_split\n",
        "\n",
        "def get_regressor_mse(model, X, y):\n",
        "    '''Calculate train and validation mean-squared error (mse) of regressor (model)\n",
        "        \n",
        "        Splits feature matrix X and target vector y \n",
        "        with sklearn train_test_split() and random_state=956.\n",
        "        \n",
        "        model (sklearn regressor): Regressor to train and evaluate\n",
        "        X (numpy.array or pandas.DataFrame): Feature matrix\n",
        "        y (numpy.array or pandas.Series): Target vector\n",
        "        \n",
        "        returns: training mse, validation mse\n",
        "    \n",
        "    '''\n",
        "   \n",
        "    # split feature matrix and target vector\n",
        "    X_train, X_test, y_train, y_test = train_test_split(X, y, random_state=956)\n",
        "    \n",
        "    # fit model\n",
        "    model.fit(X_train, y_train)\n",
        "\n",
        "    # calculate training mse\n",
        "    y_train_pred = model.predict(X_train)\n",
        "    training_mse = mean_squared_error(y_train, y_train_pred)\n",
        "\n",
        "    # calculate validation mse\n",
        "    y_test_pred = model.predict(X_test)\n",
        "    validation_mse = mean_squared_error(y_test, y_test_pred)\n",
        "    \n",
        "    return training_mse, validation_mse\n",
        "    "
      ]
    },
    {
      "cell_type": "markdown",
      "metadata": {
        "id": "Kj9n-dL7gH_z"
      },
      "source": [
        "### 3.2 Load data\n",
        "\n",
        "Use the yellowbrick function `load_energy()` load the energy data set into feature matrix `X` and target vector `y`.\n",
        "\n",
        "Print dimensions and type of `X` and `y`."
      ]
    },
    {
      "cell_type": "code",
      "execution_count": 31,
      "metadata": {
        "id": "RvtpvM7DgH_0",
        "colab": {
          "base_uri": "https://localhost:8080/"
        },
        "outputId": "938f5a11-18c6-447c-e64c-90855b1a86a3"
      },
      "outputs": [
        {
          "output_type": "stream",
          "name": "stdout",
          "text": [
            "X.size: 6144\n",
            "type(X): <class 'pandas.core.frame.DataFrame'>\n",
            "y.size: 768\n",
            "type(y): <class 'pandas.core.series.Series'>\n"
          ]
        }
      ],
      "source": [
        "from yellowbrick.datasets import load_energy\n",
        "X, y = load_energy()\n",
        "print(\"X.size: {}\".format(X.size))\n",
        "print(\"type(X): {}\".format(type(X)))\n",
        "\n",
        "print(\"y.size: {}\".format(y.size))\n",
        "print(\"type(y): {}\".format(type(y)))\n"
      ]
    },
    {
      "cell_type": "markdown",
      "metadata": {
        "id": "LR_S7DskgH_0"
      },
      "source": [
        "Using the sklearn function `train_test_split()` prepare a feature matrix `X_small` and target vector `y_small` that contain only **1%** of the rows. Use `random_state=174`.\n",
        "\n",
        "Print size and type of `X_small` and `y_small`."
      ]
    },
    {
      "cell_type": "code",
      "execution_count": 32,
      "metadata": {
        "id": "F2ZaFU5EgH_0",
        "colab": {
          "base_uri": "https://localhost:8080/"
        },
        "outputId": "72682c5b-14c9-4f73-851c-4d703b3ff5ec"
      },
      "outputs": [
        {
          "output_type": "stream",
          "name": "stdout",
          "text": [
            "size of X_small: 56\n",
            "type of X_small: <class 'pandas.core.frame.DataFrame'>\n",
            "size of y_small: 7\n",
            "type of y_small: <class 'pandas.core.series.Series'>\n"
          ]
        }
      ],
      "source": [
        "X_small, X_test, y_small, y_test = train_test_split(X, y, train_size=0.01, random_state=174)\n",
        "print(\"size of X_small:\", X_small.size)\n",
        "print(\"type of X_small:\", type(X_small))\n",
        "print(\"size of y_small:\", y_small.size)\n",
        "print(\"type of y_small:\", type(y_small))\n"
      ]
    },
    {
      "cell_type": "markdown",
      "metadata": {
        "id": "uW5FkVOagH_1"
      },
      "source": [
        "### 3.3 Train and evaluate models\n",
        "\n",
        "1. Import `LinearRegression` from sklearn\n",
        "2. Instantiate model `LinearRegression()`.\n",
        "3. Create a pandas DataFrame `results` with columns: Data size, training MSE, validation MSE\n",
        "4. Call your convenience function `get_regressor_mse()` using \n",
        "    - `X` and `y`\n",
        "    - Only first two columns of `X` and `y`\n",
        "    - `X_small` and `y_small`\n",
        "5. Add the data size, training and validation MSE for each call to the `results` DataFrame\n",
        "6. Print `results`"
      ]
    },
    {
      "cell_type": "code",
      "execution_count": 33,
      "metadata": {
        "id": "SeOcJKD8gH_1",
        "colab": {
          "base_uri": "https://localhost:8080/",
          "height": 175
        },
        "outputId": "4e8f9888-cc51-46fd-90b5-c0dc7a3da7c5"
      },
      "outputs": [
        {
          "output_type": "execute_result",
          "data": {
            "text/plain": [
              "                           Data size  training MSE  validation MSE\n",
              "sample                                                            \n",
              "X and y                         6144  8.012691e+00       10.366349\n",
              "first 2 columns of X and y      1536  5.360043e+01       46.410426\n",
              "X_small and y_small               56  2.145702e-29       69.977449"
            ],
            "text/html": [
              "\n",
              "  <div id=\"df-4acccf18-353a-4c38-afd6-80362bbc5254\">\n",
              "    <div class=\"colab-df-container\">\n",
              "      <div>\n",
              "<style scoped>\n",
              "    .dataframe tbody tr th:only-of-type {\n",
              "        vertical-align: middle;\n",
              "    }\n",
              "\n",
              "    .dataframe tbody tr th {\n",
              "        vertical-align: top;\n",
              "    }\n",
              "\n",
              "    .dataframe thead th {\n",
              "        text-align: right;\n",
              "    }\n",
              "</style>\n",
              "<table border=\"1\" class=\"dataframe\">\n",
              "  <thead>\n",
              "    <tr style=\"text-align: right;\">\n",
              "      <th></th>\n",
              "      <th>Data size</th>\n",
              "      <th>training MSE</th>\n",
              "      <th>validation MSE</th>\n",
              "    </tr>\n",
              "    <tr>\n",
              "      <th>sample</th>\n",
              "      <th></th>\n",
              "      <th></th>\n",
              "      <th></th>\n",
              "    </tr>\n",
              "  </thead>\n",
              "  <tbody>\n",
              "    <tr>\n",
              "      <th>X and y</th>\n",
              "      <td>6144</td>\n",
              "      <td>8.012691e+00</td>\n",
              "      <td>10.366349</td>\n",
              "    </tr>\n",
              "    <tr>\n",
              "      <th>first 2 columns of X and y</th>\n",
              "      <td>1536</td>\n",
              "      <td>5.360043e+01</td>\n",
              "      <td>46.410426</td>\n",
              "    </tr>\n",
              "    <tr>\n",
              "      <th>X_small and y_small</th>\n",
              "      <td>56</td>\n",
              "      <td>2.145702e-29</td>\n",
              "      <td>69.977449</td>\n",
              "    </tr>\n",
              "  </tbody>\n",
              "</table>\n",
              "</div>\n",
              "      <button class=\"colab-df-convert\" onclick=\"convertToInteractive('df-4acccf18-353a-4c38-afd6-80362bbc5254')\"\n",
              "              title=\"Convert this dataframe to an interactive table.\"\n",
              "              style=\"display:none;\">\n",
              "        \n",
              "  <svg xmlns=\"http://www.w3.org/2000/svg\" height=\"24px\"viewBox=\"0 0 24 24\"\n",
              "       width=\"24px\">\n",
              "    <path d=\"M0 0h24v24H0V0z\" fill=\"none\"/>\n",
              "    <path d=\"M18.56 5.44l.94 2.06.94-2.06 2.06-.94-2.06-.94-.94-2.06-.94 2.06-2.06.94zm-11 1L8.5 8.5l.94-2.06 2.06-.94-2.06-.94L8.5 2.5l-.94 2.06-2.06.94zm10 10l.94 2.06.94-2.06 2.06-.94-2.06-.94-.94-2.06-.94 2.06-2.06.94z\"/><path d=\"M17.41 7.96l-1.37-1.37c-.4-.4-.92-.59-1.43-.59-.52 0-1.04.2-1.43.59L10.3 9.45l-7.72 7.72c-.78.78-.78 2.05 0 2.83L4 21.41c.39.39.9.59 1.41.59.51 0 1.02-.2 1.41-.59l7.78-7.78 2.81-2.81c.8-.78.8-2.07 0-2.86zM5.41 20L4 18.59l7.72-7.72 1.47 1.35L5.41 20z\"/>\n",
              "  </svg>\n",
              "      </button>\n",
              "      \n",
              "  <style>\n",
              "    .colab-df-container {\n",
              "      display:flex;\n",
              "      flex-wrap:wrap;\n",
              "      gap: 12px;\n",
              "    }\n",
              "\n",
              "    .colab-df-convert {\n",
              "      background-color: #E8F0FE;\n",
              "      border: none;\n",
              "      border-radius: 50%;\n",
              "      cursor: pointer;\n",
              "      display: none;\n",
              "      fill: #1967D2;\n",
              "      height: 32px;\n",
              "      padding: 0 0 0 0;\n",
              "      width: 32px;\n",
              "    }\n",
              "\n",
              "    .colab-df-convert:hover {\n",
              "      background-color: #E2EBFA;\n",
              "      box-shadow: 0px 1px 2px rgba(60, 64, 67, 0.3), 0px 1px 3px 1px rgba(60, 64, 67, 0.15);\n",
              "      fill: #174EA6;\n",
              "    }\n",
              "\n",
              "    [theme=dark] .colab-df-convert {\n",
              "      background-color: #3B4455;\n",
              "      fill: #D2E3FC;\n",
              "    }\n",
              "\n",
              "    [theme=dark] .colab-df-convert:hover {\n",
              "      background-color: #434B5C;\n",
              "      box-shadow: 0px 1px 3px 1px rgba(0, 0, 0, 0.15);\n",
              "      filter: drop-shadow(0px 1px 2px rgba(0, 0, 0, 0.3));\n",
              "      fill: #FFFFFF;\n",
              "    }\n",
              "  </style>\n",
              "\n",
              "      <script>\n",
              "        const buttonEl =\n",
              "          document.querySelector('#df-4acccf18-353a-4c38-afd6-80362bbc5254 button.colab-df-convert');\n",
              "        buttonEl.style.display =\n",
              "          google.colab.kernel.accessAllowed ? 'block' : 'none';\n",
              "\n",
              "        async function convertToInteractive(key) {\n",
              "          const element = document.querySelector('#df-4acccf18-353a-4c38-afd6-80362bbc5254');\n",
              "          const dataTable =\n",
              "            await google.colab.kernel.invokeFunction('convertToInteractive',\n",
              "                                                     [key], {});\n",
              "          if (!dataTable) return;\n",
              "\n",
              "          const docLinkHtml = 'Like what you see? Visit the ' +\n",
              "            '<a target=\"_blank\" href=https://colab.research.google.com/notebooks/data_table.ipynb>data table notebook</a>'\n",
              "            + ' to learn more about interactive tables.';\n",
              "          element.innerHTML = '';\n",
              "          dataTable['output_type'] = 'display_data';\n",
              "          await google.colab.output.renderOutput(dataTable, element);\n",
              "          const docLink = document.createElement('div');\n",
              "          docLink.innerHTML = docLinkHtml;\n",
              "          element.appendChild(docLink);\n",
              "        }\n",
              "      </script>\n",
              "    </div>\n",
              "  </div>\n",
              "  "
            ]
          },
          "metadata": {},
          "execution_count": 33
        }
      ],
      "source": [
        "# 1)\n",
        "from sklearn.linear_model import LinearRegression\n",
        "# 2) \n",
        "lr = LinearRegression()\n",
        "# 3)\n",
        "results = pd.DataFrame(columns=[\"Data size\", \"training MSE\", \"validation MSE\", \"sample\"])\n",
        "\n",
        "# 4 & 5)\n",
        "# samples = [(X, y), (X.iloc[:,:2], y), (X_small, y_small)]\n",
        "samples = {\"X and y\":(X, y), \"first 2 columns of X and y\":(X.iloc[:,:2], y), \"X_small and y_small\":(X_small, y_small)}\n",
        "\n",
        "for  name, sample in samples.items():\n",
        "  featureMatrix, targetVector = sample\n",
        "  training_mse, validation_mse = get_regressor_mse(lr, featureMatrix, targetVector)\n",
        "  results = results.append({\"Data size\": featureMatrix.size, \"training MSE\": training_mse, \"validation MSE\": validation_mse, \"sample\":name}, ignore_index=True)\n",
        "\n",
        "results.set_index(\"sample\", inplace = True)\n",
        "results"
      ]
    },
    {
      "cell_type": "markdown",
      "metadata": {
        "id": "tN7-US-VgH_1"
      },
      "source": [
        "### 3.4 Questions\n",
        "1. What is the validation MSE using all data? What is the difference between training and validation MSE?\n",
        "1. How does the validation MSE and difference between training and validation change when only two columns are used? Provide values.\n",
        "1. How does the validation MSE and difference between training and validation change when only 1% of the rows are used? Provide values.\n",
        "\n",
        "*YOUR ANSWERS HERE*\n",
        "\n",
        "1) \n",
        "- The validation MSE using all data is 10.36 and training MSE is 8.01\n",
        "\n",
        "- The difference between training and validation MSE is 2.35\n",
        "\n",
        "2) \n",
        "- The validation MSE using only the first two columns is 46.41. This is an increase of 36.05 compared to using all the data.\n",
        "\n",
        "- The difference between training and validation MSE is 7.19. This is an increase of 4.84 compared to the training and validation MSE difference of the full dataset\n",
        "\n",
        "\n",
        "3) \n",
        "- The validation MSE using 1% is 69.98. This is an increase of 59.62 compared to using all the data.\n",
        "\n",
        "- The difference between training and validation MSE is 69.98. This is an increase of 67.63 compared to the training and validation MSE difference of the full dataset.\n",
        "\n"
      ]
    },
    {
      "cell_type": "markdown",
      "metadata": {
        "id": "wine8VeOgH_1"
      },
      "source": [
        "## 4. Observations/Interpretation\n",
        "\n",
        "Describe any pattern you see in the results. Relate your findings to what we discussed during lectures. Include data to justify your findings.\n",
        "\n",
        "\n",
        "\n",
        "  - When using logistic regression with only the first two columns, the validation accuracy (0.613) is actually slightly higher than the training accuracy (0.609). This is similar to the linear regression on the first two rows, where the validation MSE (46.41) is slightly lower than the training MSE (53.60). This is notable, because usually the model predicts the training set better than the validation set. \n",
        "\n",
        "\n",
        "  - We observe that the model performs poorly when we only use the first two columns of the data. This is because linear models are known to perform better when there are many features. If you have more features than data points you can perfectly model the training set with a linear model. \n",
        "     \n",
        "\n",
        "  - For both linear regression and logistic regression there is a decrease in the performance of the training set and increase in performance of the validation set when the training set size increases. This is expected, because for a given model complexity the larger the training set size the less likely it is for the model to overfit the data.\n",
        "\n",
        "    - For linear regression with only 1% of the data, the training MSE is close to zero which is desirable but the validation MSE is very high at 69.98.\n",
        "    - For Logistic regression with only 1% of the data, the training accuracy is very high at 0.941 but the validation accuracy is low at 0.750\n",
        "\n",
        "  When increase the size of the data set (using all of the data), we see a substancial improvement:\n",
        "    - For logistic regression, the validation accuracy increases by 0.168, going from 0.750 to 0.918\n",
        "    - For linear regression, the validation MSE decreases by 59.62, from 69.98 to 10.36\n",
        "\n"
      ]
    },
    {
      "cell_type": "markdown",
      "metadata": {
        "id": "mY3BThjTgH_1"
      },
      "source": [
        "## 5. Reflection\n",
        "Include a sentence or two about:\n",
        "- what you liked or disliked,\n",
        "- found interesting, confusing, challangeing, motivating\n",
        "while working on this assignment.\n",
        "\n",
        "\n",
        "*My Reflection:*\n",
        "- I found the result of the validation score being better than the training score in the dataset of only the first 2 columns confusing. I couldn't figure out an explaination for that.\n",
        "- I liked leaning how to actually use sklearn and see how the linear models are affected by changing the dataset.\n",
        "- I disliked that I had to use google colab to complete this lab, because there is an error when trying to use Jupyter Notebooks and the anaconda environment set up as described in the course material. Something about Yellowbricks doesn't work. \n",
        "\n"
      ]
    }
  ],
  "metadata": {
    "kernelspec": {
      "display_name": "Python 3 (ipykernel)",
      "language": "python",
      "name": "python3"
    },
    "language_info": {
      "codemirror_mode": {
        "name": "ipython",
        "version": 3
      },
      "file_extension": ".py",
      "mimetype": "text/x-python",
      "name": "python",
      "nbconvert_exporter": "python",
      "pygments_lexer": "ipython3",
      "version": "3.8.15"
    },
    "colab": {
      "provenance": []
    }
  },
  "nbformat": 4,
  "nbformat_minor": 0
}